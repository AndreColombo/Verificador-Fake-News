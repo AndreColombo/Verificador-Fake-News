{
  "nbformat": 4,
  "nbformat_minor": 0,
  "metadata": {
    "colab": {
      "provenance": [],
      "authorship_tag": "ABX9TyPyO2P7pYQDvIvZJx/gO87v",
      "include_colab_link": true
    },
    "kernelspec": {
      "name": "python3",
      "display_name": "Python 3"
    },
    "language_info": {
      "name": "python"
    }
  },
  "cells": [
    {
      "cell_type": "markdown",
      "metadata": {
        "id": "view-in-github",
        "colab_type": "text"
      },
      "source": [
        "<a href=\"https://colab.research.google.com/github/AndreColombo/Verificador-Fake-News/blob/main/Desafio_Final.ipynb\" target=\"_parent\"><img src=\"https://colab.research.google.com/assets/colab-badge.svg\" alt=\"Open In Colab\"/></a>"
      ]
    },
    {
      "cell_type": "code",
      "source": [
        "!pip install -q google-cloud-language\n",
        "!pip install -q nltk"
      ],
      "metadata": {
        "id": "U-GJ8GI9p8g0"
      },
      "execution_count": null,
      "outputs": []
    },
    {
      "cell_type": "code",
      "source": [
        "import nltk\n",
        "nltk.download('vader_lexicon')\n",
        "from google.cloud import language_v1\n",
        "from google.oauth2 import service_account\n",
        "from nltk.sentiment.vader import SentimentIntensityAnalyzer"
      ],
      "metadata": {
        "id": "QWr1UFOKdJFA",
        "colab": {
          "base_uri": "https://localhost:8080/"
        },
        "outputId": "8316c1ed-b4a7-4805-cad6-0afaf9eda04e"
      },
      "execution_count": null,
      "outputs": [
        {
          "output_type": "stream",
          "name": "stderr",
          "text": [
            "[nltk_data] Downloading package vader_lexicon to /root/nltk_data...\n",
            "[nltk_data]   Package vader_lexicon is already up-to-date!\n"
          ]
        }
      ]
    },
    {
      "cell_type": "markdown",
      "source": [
        "Função para analisar o sentimento do texto"
      ],
      "metadata": {
        "id": "5ZGcXlj6d8dS"
      }
    },
    {
      "cell_type": "code",
      "source": [
        "def analisar_sentimento(texto):\n",
        "    sia = SentimentIntensityAnalyzer()\n",
        "    sentimento = sia.polarity_scores(texto)\n",
        "    return sentimento"
      ],
      "metadata": {
        "id": "l8iCvcyDd4UM"
      },
      "execution_count": null,
      "outputs": []
    },
    {
      "cell_type": "markdown",
      "source": [
        "Função para analisar entidades nomeadas com a API do Google"
      ],
      "metadata": {
        "id": "X6l302GZd33m"
      }
    },
    {
      "cell_type": "code",
      "source": [
        "def analisar_entidades(texto):\n",
        "    api_key = input(\"Digite sua API Key do Google Cloud: \")\n",
        "    credentials = service_account.Credentials.from_api_key(api_key)\n",
        "    client = language_v1.LanguageServiceClient(credentials=credentials)\n",
        "    document = language_v1.Document(content=texto, type_=language_v1.Document.Type.PLAIN_TEXT)\n",
        "    response = client.analyze_entities(document=document)\n",
        "    return response"
      ],
      "metadata": {
        "id": "dQtKWoqad3Lk"
      },
      "execution_count": null,
      "outputs": []
    },
    {
      "cell_type": "markdown",
      "source": [
        "Função para verificar a confiabilidade da fonte"
      ],
      "metadata": {
        "id": "LTIu8emldwAZ"
      }
    },
    {
      "cell_type": "code",
      "source": [
        "def verificar_fonte(fonte):\n",
        "    fontes_confiaveis = [\"https://www.cnnbrasil.com.br/\", \"https://www.bbc.com/\"]\n",
        "    if fonte in fontes_confiaveis:\n",
        "        return True\n",
        "    else:\n",
        "        return False"
      ],
      "metadata": {
        "id": "8E5xRmx_dslf"
      },
      "execution_count": null,
      "outputs": []
    },
    {
      "cell_type": "markdown",
      "source": [
        "Função principal para analisar a notícia"
      ],
      "metadata": {
        "id": "lJhCsR5sde7x"
      }
    },
    {
      "cell_type": "code",
      "source": [
        "def analisar_noticia(texto, fonte=None):\n",
        "    # Análise de Sentimento\n",
        "    sentimento = analisar_sentimento(texto)\n",
        "\n",
        "    # Análise de Entidades\n",
        "    entidades = analisar_entidades(texto)\n",
        "\n",
        "    # Verificação da Fonte\n",
        "    confiabilidade_fonte = verificar_fonte(fonte) if fonte else None\n",
        "\n",
        "    print(\"Análise da Notícia:\")\n",
        "    print(\"Sentimento:\", sentimento)\n",
        "    print(\"\\nEntidades:\")\n",
        "    for entidade in entidades.entities:\n",
        "        print(f\"Nome: {entidade.name}, Tipo: {entidade.type_}\")\n",
        "\n",
        "    print(\"\\nConfiabilidade da Fonte:\", confiabilidade_fonte)\n",
        "\n",
        "    # Calcular um índice de confiabilidade\n",
        "    indice = 0\n",
        "    if sentimento['neg'] > 0.5: indice -= 0.3\n",
        "    if confiabilidade_fonte == False: indice -= 0.5\n",
        "    print(\"Índice de Confiabilidade: \", indice)"
      ],
      "metadata": {
        "id": "Uxvuk0DWdaCq"
      },
      "execution_count": null,
      "outputs": []
    },
    {
      "cell_type": "markdown",
      "source": [
        "Exemplo de uso"
      ],
      "metadata": {
        "id": "noKLzt5odXOG"
      }
    },
    {
      "cell_type": "code",
      "source": [
        "texto_noticia = \"\"\"\n",
        "EUA dizem ter derrubado um objeto não identificado sobre o Alasca\n",
        "Os Estados Unidos derrubaram um \"objeto de alta altitude\" não identificado sobre o Alasca, disse o governo americano nesta sexta-feira (10).\n",
        "Um porta-voz do Conselho de Segurança Nacional, John Kirby, disse a repórteres que o objeto, que ele disse ser do tamanho de um \"carro pequeno\", representava \"uma ameaça razoável ao tráfego aéreo civil\".\n",
        "O objeto estava voando a uma altitude de cerca de 40.000 pés (12.000 metros) e foi derrubado por volta das 13h45, horário do leste (15h45 no horário de Brasília), acrescentou.\n",
        "O presidente dos Estados Unidos, Joe Biden, ordenou a derrubada, de acordo com Kirby.\n",
        "Ele disse que o objeto caiu em águas congeladas dos EUA, perto da fronteira canadense.\n",
        "Não está claro quem é o dono do objeto ou de onde ele veio, de acordo com Kirby.\n",
        "\"\"\"\n",
        "\n",
        "fonte_noticia = \"https://www.bbc.com/news/articles/c4n14merj97o\"\n",
        "\n",
        "analisar_noticia(texto_noticia, fonte_noticia)"
      ],
      "metadata": {
        "id": "oF0jYf7xdRGA",
        "collapsed": true
      },
      "execution_count": null,
      "outputs": []
    }
  ]
}